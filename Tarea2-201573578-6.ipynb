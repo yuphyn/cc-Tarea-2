{
 "cells": [
  {
   "cell_type": "markdown",
   "metadata": {},
   "source": [
    "<img src=\"escudo_utfsm.gif\" style=\"float:right;height:100px\">\n",
    "<img src=\"IsotipoDIisocolor.png\" style=\"float:left;height:100px\">\n",
    "<center>\n",
    "    <h1> INF285 - Computación Científica</h1>\n",
    "    <h1> Tarea 2: La descomposición de valores singulares (SVD)</h1> \n",
    "    <h2> El fundamento Matemático de PCA (Principal Componene Analysis)</h2>\n",
    "    <h3> César Quiroz Mansilla 201573578-6</h3>\n",
    "    <h3> cesar.quirozm@sansano.usm.cl</h3>\n",
    "</center>"
   ]
  },
  {
   "cell_type": "code",
   "execution_count": 1,
   "metadata": {},
   "outputs": [],
   "source": [
    "# Librerias\n",
    "from PIL import Image\n",
    "import numpy as np\n",
    "from sklearn.decomposition import PCA\n",
    "import matplotlib.pyplot as plt\n",
    "from ipywidgets import interact, IntSlider\n",
    "import networkx as nx\n",
    "import matplotlib.pyplot as plt\n",
    "%matplotlib inline"
   ]
  },
  {
   "cell_type": "markdown",
   "metadata": {},
   "source": [
    "## Preguntas\n",
    "\n",
    "### 1\n",
    "a) Dado un dataset de $m$ imágenes y utilizando la _Descomposición en Valores Singulares_, explique Matemáticamente cómo podrá obtener los vectores principales y la matriz $P$ de proyección de imágenes sobre el espacio de caras. \n",
    "El documento PDF adjunto a esta tarea podría resultar de utilidad.\n"
   ]
  },
  {
   "cell_type": "markdown",
   "metadata": {},
   "source": [
    "La Descomposición en Valores Singulares es una factorización de matrices. Que utilizada en caso donde se tienen matrices de nXm con n y m valores muy grandes.\n",
    "\n",
    "La observación geometrica de esto es:\n",
    " \n",
    "Se considera una circunferencia unitaria que es alargada por valores singulares (σ) en direcciones unitarias ortogonales (u) que será igual a la matriz trabajada multiplicada por vectores principales (v).esto es: \n",
    "\n",
    "$$\n",
    "\\text A*V_j = σ_j * u_j\n",
    "$$\n",
    "\n",
    "Esto es: \n",
    "\n",
    "$$\n",
    "\\text A V = U^ˆ Σ^ˆ\n",
    "$$\n",
    "\n",
    "Donde $Σ^ˆ$ es una matriz diagonal con los valores singulares (en su diagonal), $U^ˆ$ posee columnas ortonormales (valores $u_j$) y $V$ es una matriz unitaria con valores de $v_j$ que representa la proyección de imagenes sobre el espacio de caras. Que es lo buscado.  \n",
    "\n",
    "numpy.linalg.svd, es un comando que permite encontrar estas matrices a partir de una matriz $ A $\n",
    "\n",
    "Para esta descomposición, lo primero es obtener los valores propios del resultado $A * A^T$. Luego, se obtienen los vectores propios de cada valor propio encontrado, los cuales son normalizados y dispuestos en columnas para formar la matriz V buscada.\n",
    "\n",
    "Tal como explica el pdf La SVD.\n",
    "\n"
   ]
  },
  {
   "cell_type": "markdown",
   "metadata": {},
   "source": [
    "b) Para un dataset de $m$ imágenes, obtenga los vectores principales del espacio de caras, utilizando $k$ componentes principales. Para ello utilice la función `numpy.linalg.svd`. La función solictada es la siguiente:\n"
   ]
  },
  {
   "cell_type": "code",
   "execution_count": 87,
   "metadata": {},
   "outputs": [],
   "source": [
    "# reading images from training dataset\n",
    "image_list = list()\n",
    "for i in range(1,11):\n",
    "    img = Image.open(\"sample/\"+str(i)+\".pgm\")\n",
    "    \n",
    "    data = img.getdata()\n",
    "    data = np.asarray(data)\n",
    "    image_list.append(data)\n",
    "\n",
    "#convertir a array\n",
    "image_list = np.asarray(image_list)\n",
    "\n",
    "# image matrix\n",
    "mean = image_list.mean(axis=0)\n",
    "data = image_list-mean[None,:]\n",
    "data=data/255 "
   ]
  },
  {
   "cell_type": "code",
   "execution_count": 89,
   "metadata": {},
   "outputs": [
    {
     "name": "stdout",
     "output_type": "stream",
     "text": [
      "Las dimensiones son: \n",
      " Matriz u:  (10, 10) \n",
      " Matriz s:  (10,) \n",
      " Matriz vh:  (10, 10304)\n",
      "matriz reducida (10304, 4)\n"
     ]
    }
   ],
   "source": [
    "def svd_pca_components(k, data):\n",
    "    # Valor singular de descomposición\n",
    "    u, s, vh = np.linalg.svd(data, full_matrices=False)\n",
    "    #s -> vector con los valores singulares\n",
    "    print (\"Las dimensiones son: \\n\", \"Matriz u: \", u.shape,\"\\n Matriz s: \", s.shape, \"\\n Matriz vh: \", vh.shape)\n",
    "    l= len(vh[0])\n",
    "    vh=np.transpose(vh)\n",
    "    V = np.full((l,k),np.nan)\n",
    "    \n",
    "    i=0\n",
    "    while i< l:\n",
    "        j=0\n",
    "        while j<k:\n",
    "            V[i][j]=vh[i][j]\n",
    "            j=j+1\n",
    "        i=i+1\n",
    "    return V\n",
    "#K son elementos conponentes importantes.\n",
    "matriz=svd_pca_components(4,data)\n",
    "print(\"matriz reducida\", matriz.shape)"
   ]
  },
  {
   "cell_type": "markdown",
   "metadata": {},
   "source": [
    "### 2\n",
    "\n",
    "a) Considere el dataset orl\\_faces que se compone de $m = 400$ imágenes, el cual se encuentra separado en grupos de $S = 10$ imágenes que corresponden una misma persona. En otras palabras, el dataset contiene 10 imágenes de 40 personas distintas.\n",
    "\n",
    "Desarrolle un algoritmo que dada la métrica $\\text{d}(\\cdot,\\cdot)$ determine las 2 personas más parecidas y las 2 personas menos parecida de la base de datos entregada.\n",
    "\n",
    "b) Construya un widget con la función anterior, el cual debe contener varios valores de $k$ y el input `flag`. El resultado gráfico debe mostrar la primera imagen de las personas seleccionadas. ¿Qué puede decir al utilizar distintos valores para $k$? "
   ]
  },
  {
   "cell_type": "code",
   "execution_count": 90,
   "metadata": {},
   "outputs": [],
   "source": [
    "# Funcion que calcula la diferecnai entre dos vectores\n",
    "def diferencia_v_i(v1,v2):\n",
    "    diferencia=0   \n",
    "    su=np.linalg.norm(v1+v2)\n",
    "    re=np.linalg.norm(v1-v2)\n",
    "    if su<re:\n",
    "        diferencia+=su\n",
    "    else:\n",
    "        diferencia+=re\n",
    "    return diferencia"
   ]
  },
  {
   "cell_type": "code",
   "execution_count": 91,
   "metadata": {},
   "outputs": [],
   "source": [
    "# se crean 40 matrices\n",
    "def creacion_matriz():\n",
    "    todas= list()\n",
    "    for carpeta in range(1,41):\n",
    "        image_list = list()\n",
    "        for i in range(1,11):\n",
    "            img = Image.open(\"orl_faces/s\"+str(carpeta)+\"/\"+str(i)+\".pgm\")\n",
    "            data = img.getdata()\n",
    "            data = np.asarray(data)\n",
    "            image_list.append(data)\n",
    "        #convertir a array\n",
    "        image_list = np.asarray(image_list) \n",
    "        # image matrix\n",
    "        mean = image_list.mean(axis=0)\n",
    "        data = image_list-mean[None,:]\n",
    "        data=data/255  # matriz A \n",
    "        u, s, vh = np.linalg.svd(data, full_matrices=False)\n",
    "        l= len(vh[0])\n",
    "        vh=np.transpose(vh)\n",
    "        todas.append(vh)\n",
    "    return todas\n",
    "\n",
    "\n",
    "infor=creacion_matriz()"
   ]
  },
  {
   "cell_type": "code",
   "execution_count": 96,
   "metadata": {},
   "outputs": [],
   "source": [
    "# creacion de un arreglo con el formato:\n",
    "# resultado= [[[k distancias],id1,id2],....] entrega todas las k distancias entre dos imagenes, tiene un largo de 780\n",
    "def find(k, informacion= infor):\n",
    "    resultado = list()\n",
    "    for matriz in range(0,40):\n",
    "        for matriz2 in range(matriz+1, 40):\n",
    "            valor=0\n",
    "            valores= list()\n",
    "            for vector in range (0,k):\n",
    "                v1=informacion[matriz][ : ,vector]\n",
    "                v2=informacion[matriz2][ : ,vector]\n",
    "                valor+= diferencia_v_i(v1,v2)\n",
    "                valores.append(valor)\n",
    "            resultado.append([valores,matriz+1,matriz2+1])\n",
    "    return resultado\n",
    "resul=find(k=10, informacion=infor)"
   ]
  },
  {
   "cell_type": "code",
   "execution_count": 97,
   "metadata": {},
   "outputs": [
    {
     "data": {
      "application/vnd.jupyter.widget-view+json": {
       "model_id": "531cc8736a0645cc9a50257acd0d7305",
       "version_major": 2,
       "version_minor": 0
      },
      "text/plain": [
       "interactive(children=(IntSlider(value=3, description='k', max=10, min=1), IntSlider(value=0, description='flag…"
      ]
     },
     "metadata": {},
     "output_type": "display_data"
    },
    {
     "data": {
      "text/plain": [
       "<function __main__.find_people(k=3, flag=0)>"
      ]
     },
     "execution_count": 97,
     "metadata": {},
     "output_type": "execute_result"
    }
   ],
   "source": [
    "def find_people(k=3,flag=0):\n",
    "    data=resul\n",
    "    if flag==0:\n",
    "        me=200000\n",
    "    else:\n",
    "        me= -1\n",
    "    \n",
    "    resultado=[0,0,0]\n",
    "    for i in range(0,len(data)):\n",
    "        if data[i][0][k-1]< me and flag== 0:\n",
    "            me= data[i][0][k-1]\n",
    "            resultado=[me,data[i][1],data[i][2]]\n",
    "        if data[i][0][k-1]> me and flag== 1:\n",
    "            me= data[i][0][k-1]\n",
    "            resultado=[me,data[i][1],data[i][2]]\n",
    "    img1 = Image.open(\"orl_faces/s\"+str(resultado[1])+\"/\"+str(1)+\".pgm\")\n",
    "    img2 = Image.open(\"orl_faces/s\"+str(resultado[2])+\"/\"+str(1)+\".pgm\")\n",
    "    plt.figure(figsize=(5,5))\n",
    "    f, subplt = plt.subplots(1,2)\n",
    "    subplt[0].imshow(img1,cmap='gray')\n",
    "    subplt[1].imshow(img2,cmap='gray')\n",
    "    plt.show()     \n",
    "    return resultado\n",
    "        \n",
    "#find_people()\n",
    "interact(find_people,k=(1,10,1),flag=(0,1,1))"
   ]
  },
  {
   "cell_type": "markdown",
   "metadata": {},
   "source": [
    "Al aumentar k cambian las personas (fotografias de caras), más parecidas, sin embargo existe una  cara (que se encuentra es la carpeta S9), que esta en 9 de los 10 casos posibles, esto indica que sus parametros (pixeles), son muy comunes.\n",
    "\n",
    "También, se observa que mientras mayor sea k, se obtienen mejores resultados ya que se hace toman en cuenta una mayor cantidad de vectores principales."
   ]
  },
  {
   "cell_type": "markdown",
   "metadata": {},
   "source": [
    "a) Considere la matriz $\\widehat{M}^{(k)}$, la cual consiste en la matriz de distancia entre todas las caras disponibles en el *dataset* utilizando $k$ componentes principales.\n",
    "Para construir una matriz de adyacencia y visualizar la cercanía de las caras mediante un grafo, introduciremos un parámetro de cercanía, denotado por $\\delta$, el cual nos permitirá separar las caras que son \"cercanas\" de aquellas que están \"lejanas\". Utilizando este parámetro $\\delta$, podemos definir la matriz de adyacencia $A^{(k)}$ como:\n",
    "\n",
    "$$\n",
    "A^{(k)}_{i,j} =\n",
    "\\begin{cases}\n",
    "    \\widehat{M}^{(k)}_{i,j},\\quad &\\text{si } \\text{d}(V_i,V_j) \\leq \\delta, \\\\\n",
    "    0, \\quad &\\text{en otro caso}.\n",
    "\\end{cases}\n",
    "$$\n",
    "\n",
    "Implemente la función `build_adjacency_matrix`, respetando el formato adjunto, para que retorne la matriz $A^{(k)}$ definida anteriormente. Considere que esta función recibe como parámetro: el nombre del dataset (string), el número $k$ de componentes principales a utilizar y el valor de $\\delta$. Considere como datasets para esta pregunta: sample y orl_faces."
   ]
  },
  {
   "cell_type": "code",
   "execution_count": 99,
   "metadata": {},
   "outputs": [
    {
     "data": {
      "application/vnd.jupyter.widget-view+json": {
       "model_id": "93d61ae4e7a14ea19d23fe321179ad81",
       "version_major": 2,
       "version_minor": 0
      },
      "text/plain": [
       "interactive(children=(IntSlider(value=2, description='k', max=10, min=1), FloatSlider(value=12.0, description=…"
      ]
     },
     "metadata": {},
     "output_type": "display_data"
    },
    {
     "data": {
      "text/plain": [
       "<function __main__.build_adjacency_matrix(k=2, delta=12)>"
      ]
     },
     "execution_count": 99,
     "metadata": {},
     "output_type": "execute_result"
    }
   ],
   "source": [
    "def build_adjacency_matrix(k=2, delta=12):\n",
    "    datos=resul\n",
    "    contador=0\n",
    "    arreglo= list()\n",
    "    for i in range(0,len(datos)):\n",
    "        arreglo.append(datos[i][0][k-1]) \n",
    "    A = np.full((40,40),np.nan)\n",
    "    for i in range(0,40):\n",
    "        for x in range(0,40):\n",
    "            if x==i:\n",
    "                A[i][x]=0\n",
    "            if x>i:\n",
    "                if arreglo[contador]<=delta:\n",
    "                    A[i][x]=arreglo[contador]\n",
    "                    A[x][i]=arreglo[contador]\n",
    "                    contador+=1\n",
    "                else:\n",
    "                    A[i][x]=0\n",
    "                    A[x][i]=0\n",
    "                    contador+=1                    \n",
    "    return A\n",
    "#print(build_adjacency_matrix( 10, 19.5))\n",
    "\n",
    "interact(build_adjacency_matrix,k=(1,10,1),delta=(0,20,0.5))"
   ]
  },
  {
   "cell_type": "markdown",
   "metadata": {},
   "source": [
    "b) Utilizando la función `show_graph`, disponible abajo de este enunciado, visualice el efecto de $k$ y $\\delta$ en las caras encontradas. A partir de estos resultados, concluya si la noción de cercanía del método coincide con la percepción humana de \"caras parecidas\"."
   ]
  },
  {
   "cell_type": "code",
   "execution_count": 101,
   "metadata": {},
   "outputs": [
    {
     "data": {
      "application/vnd.jupyter.widget-view+json": {
       "model_id": "9850a3f581254ea5aa8871deff561db9",
       "version_major": 2,
       "version_minor": 0
      },
      "text/plain": [
       "interactive(children=(IntSlider(value=3, description='k', max=10, min=1), FloatSlider(value=25.0, description=…"
      ]
     },
     "metadata": {},
     "output_type": "display_data"
    },
    {
     "data": {
      "text/plain": [
       "<function __main__.show_graph(k, delta, id1=0, id2=1)>"
      ]
     },
     "execution_count": 101,
     "metadata": {},
     "output_type": "execute_result"
    }
   ],
   "source": [
    "def show_graph(k, delta, id1=0, id2=1):\n",
    "    subjects=40\n",
    "    # reading images from dataset\n",
    "    image_list = list()\n",
    "    for i in range(1,subjects+1):\n",
    "        img = Image.open(\"orl_faces/s\"+str(i)+\"/1.pgm\")           \n",
    "        data = img.getdata()\n",
    "        data = np.asarray(data)\n",
    "        image_list.append(data)\n",
    "    \n",
    "    #only works if there are subjects\n",
    "    if subjects > 0:\n",
    "        #array conversion\n",
    "        image_list = np.asarray(image_list)\n",
    "\n",
    "        A = build_adjacency_matrix( k, delta)\n",
    "        G = nx.from_numpy_matrix(A)\n",
    "\n",
    "        plt.figure(figsize=(10,5))\n",
    "\n",
    "        plt.subplot(131)\n",
    "        colors = ['cyan'] * A.shape[0]\n",
    "        colors[id1] = 'b'\n",
    "        colors[id2] = 'r'\n",
    "        nx.draw(G, with_labels=True, font_weight='bold', node_color=colors)\n",
    "\n",
    "        plt.subplot(132)\n",
    "        plt.title(\"Blue node\")\n",
    "        ni = np.reshape(image_list[id1,:],(112,92))\n",
    "        plt.imshow(ni,cmap='gray')\n",
    "\n",
    "        plt.subplot(133)\n",
    "        plt.title(\"Red node\")\n",
    "        ni = np.reshape(image_list[id2,:],(112,92))\n",
    "        plt.imshow(ni,cmap='gray')\n",
    "\n",
    "        plt.show()\n",
    "\n",
    "interact(show_graph,k=IntSlider(min=1,max=10,step=1,value=3),delta=(0,50,0.1),id1=(0,39,1),id2=(0,39,1))"
   ]
  },
  {
   "cell_type": "markdown",
   "metadata": {},
   "source": [
    "#### Referencias\n",
    "\n",
    "+ PDF proporcionado para la tarea"
   ]
  },
  {
   "cell_type": "code",
   "execution_count": null,
   "metadata": {},
   "outputs": [],
   "source": []
  }
 ],
 "metadata": {
  "kernelspec": {
   "display_name": "Python 3",
   "language": "python",
   "name": "python3"
  },
  "language_info": {
   "codemirror_mode": {
    "name": "ipython",
    "version": 3
   },
   "file_extension": ".py",
   "mimetype": "text/x-python",
   "name": "python",
   "nbconvert_exporter": "python",
   "pygments_lexer": "ipython3",
   "version": "3.7.1"
  }
 },
 "nbformat": 4,
 "nbformat_minor": 2
}
