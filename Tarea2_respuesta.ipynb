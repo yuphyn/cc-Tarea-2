{
 "cells": [
  {
   "cell_type": "markdown",
   "metadata": {},
   "source": [
    "<img src=\"escudo_utfsm.gif\" style=\"float:right;height:100px\">\n",
    "<img src=\"IsotipoDIisocolor.png\" style=\"float:left;height:100px\">\n",
    "<center>\n",
    "    <h1> INF285 - Computación Científica</h1>\n",
    "    <h1> Tarea 2: La descomposición de valores singulares (SVD)</h1> \n",
    "    <h2> El fundamento Matemático de PCA (Principal Componene Analysis)</h2>\n",
    "    <h3> César Quiroz Mansilla 201573578-6</h3>\n",
    "    <h3> cesar.quirozm@sansano.usm.cl</h3>\n",
    "</center>"
   ]
  },
  {
   "cell_type": "code",
   "execution_count": 2,
   "metadata": {},
   "outputs": [],
   "source": [
    "# Librerias\n",
    "\n",
    "from PIL import Image\n",
    "import numpy as np\n",
    "from sklearn.decomposition import PCA\n",
    "import matplotlib.pyplot as plt\n",
    "from ipywidgets import interact, IntSlider\n",
    "import networkx as nx"
   ]
  },
  {
   "cell_type": "markdown",
   "metadata": {},
   "source": [
    "## Preguntas\n",
    "\n",
    "### 1\n",
    "a) Dado un dataset de $m$ imágenes y utilizando la _Descomposición en Valores Singulares_, explique Matemáticamente cómo podrá obtener los vectores principales y la matriz $P$ de proyección de imágenes sobre el espacio de caras. \n",
    "El documento PDF adjunto a esta tarea podría resultar de utilidad.\n"
   ]
  },
  {
   "cell_type": "code",
   "execution_count": null,
   "metadata": {},
   "outputs": [],
   "source": []
  },
  {
   "cell_type": "markdown",
   "metadata": {},
   "source": [
    "b) Para un dataset de $m$ imágenes, obtenga los vectores principales del espacio de caras, utilizando $k$ componentes principales. Para ello utilice la función `numpy.linalg.svd`. La función solictada es la siguiente:\n",
    "\n",
    "```python\n",
    "'''\n",
    "Input:\n",
    "m - (integer) size of dataset of images\n",
    "k - (integer) number of components used for PCA\n",
    "Output: V - (m x k matrix) principal components\n",
    "'''\n",
    "def svd_pca_components(m, k):\n",
    "    V = np.full((m,k),np.nan)\n",
    "    ...\n",
    "    return V\n",
    "```\n",
    "\n",
    "Para esta función utilice el dataset _sample_, provisto en la tarea de manera que $m$ sea menor o igual a la cantidad total de imágenes del dataset. \n"
   ]
  },
  {
   "cell_type": "code",
   "execution_count": 8,
   "metadata": {},
   "outputs": [
    {
     "data": {
      "application/vnd.jupyter.widget-view+json": {
       "model_id": "12b4803d3a3b4f008ca6256c1ca9175b",
       "version_major": 2,
       "version_minor": 0
      },
      "text/plain": [
       "interactive(children=(IntSlider(value=5, description='k', max=40, min=1), IntSlider(value=8, description='imag…"
      ]
     },
     "metadata": {},
     "output_type": "display_data"
    },
    {
     "data": {
      "text/plain": [
       "<function __main__.pca_components(k, image)>"
      ]
     },
     "execution_count": 8,
     "metadata": {},
     "output_type": "execute_result"
    }
   ],
   "source": [
    "# reading images from training dataset\n",
    "image_list = list()\n",
    "for i in range(1,11):\n",
    "    img = Image.open(\"sample/\"+str(i)+\".pgm\")\n",
    "    \n",
    "    data = img.getdata()\n",
    "    data = np.asarray(data)\n",
    "    image_list.append(data)\n",
    "\n",
    "#convertir a array\n",
    "image_list = np.asarray(image_list)\n",
    "\n",
    "# image matrix\n",
    "mean = image_list.mean(axis=0)\n",
    "data = image_list-mean[None,:]\n",
    "data=data/255 \n",
    "\n",
    "#use PCA with k components\n",
    "def pca_components(k,image):\n",
    "    #defining k principal components\n",
    "    pca = PCA(n_components=k)\n",
    "    #projecting data into k components with dimensional reduction\n",
    "    transformed_data = pca.fit_transform(data)\n",
    "    \n",
    "    #reconstructing data with k components\n",
    "    inverse_transformed = pca.inverse_transform(transformed_data)\n",
    "    \n",
    "    #show images reconstructed\n",
    "    ni = np.reshape(255*inverse_transformed[image,:]+mean[None,:],(112,92))\n",
    "    plt.figure(figsize=(5,5))\n",
    "    plt.imshow(ni,cmap='gray')\n",
    "    plt.show()\n",
    "    \n",
    "def svd_pca_components(m, k):\n",
    "    V = np.full((m,k),np.nan)\n",
    "    ...\n",
    "    return V\n",
    "interact(pca_components,k=IntSlider(min=1,max=40,step=1,value=5),image=IntSlider(min=0,max=9,step=1,value=8))"
   ]
  },
  {
   "cell_type": "code",
   "execution_count": null,
   "metadata": {},
   "outputs": [],
   "source": []
  }
 ],
 "metadata": {
  "kernelspec": {
   "display_name": "Python 3",
   "language": "python",
   "name": "python3"
  },
  "language_info": {
   "codemirror_mode": {
    "name": "ipython",
    "version": 3
   },
   "file_extension": ".py",
   "mimetype": "text/x-python",
   "name": "python",
   "nbconvert_exporter": "python",
   "pygments_lexer": "ipython3",
   "version": "3.7.1"
  }
 },
 "nbformat": 4,
 "nbformat_minor": 2
}
