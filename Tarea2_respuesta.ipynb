{
 "cells": [
  {
   "cell_type": "markdown",
   "metadata": {},
   "source": [
    "<img src=\"escudo_utfsm.gif\" style=\"float:right;height:100px\">\n",
    "<img src=\"IsotipoDIisocolor.png\" style=\"float:left;height:100px\">\n",
    "<center>\n",
    "    <h1> INF285 - Computación Científica</h1>\n",
    "    <h1> Tarea 2: La descomposición de valores singulares (SVD)</h1> \n",
    "    <h2> El fundamento Matemático de PCA (Principal Componene Analysis)</h2>\n",
    "    <h3> César Quiroz Mansilla 201573578-6</h3>\n",
    "    <h3> cesar.quirozm@sansano.usm.cl</h3>\n",
    "</center>"
   ]
  },
  {
   "cell_type": "code",
   "execution_count": 1,
   "metadata": {},
   "outputs": [],
   "source": [
    "# Librerias\n",
    "\n",
    "from PIL import Image\n",
    "import numpy as np\n",
    "from sklearn.decomposition import PCA\n",
    "import matplotlib.pyplot as plt\n",
    "from ipywidgets import interact, IntSlider\n",
    "import networkx as nx"
   ]
  },
  {
   "cell_type": "markdown",
   "metadata": {},
   "source": [
    "## Preguntas\n",
    "\n",
    "### 1\n",
    "a) Dado un dataset de $m$ imágenes y utilizando la _Descomposición en Valores Singulares_, explique Matemáticamente cómo podrá obtener los vectores principales y la matriz $P$ de proyección de imágenes sobre el espacio de caras. \n",
    "El documento PDF adjunto a esta tarea podría resultar de utilidad.\n"
   ]
  },
  {
   "cell_type": "code",
   "execution_count": null,
   "metadata": {},
   "outputs": [],
   "source": []
  },
  {
   "cell_type": "markdown",
   "metadata": {},
   "source": [
    "b) Para un dataset de $m$ imágenes, obtenga los vectores principales del espacio de caras, utilizando $k$ componentes principales. Para ello utilice la función `numpy.linalg.svd`. La función solictada es la siguiente:\n",
    "\n",
    "```python\n",
    "'''\n",
    "Input:\n",
    "m - (integer) size of dataset of images\n",
    "k - (integer) number of components used for PCA\n",
    "Output: V - (m x k matrix) principal components\n",
    "'''\n",
    "def svd_pca_components(m, k):\n",
    "    V = np.full((m,k),np.nan)\n",
    "    ...\n",
    "    return V\n",
    "```\n",
    "\n",
    "Para esta función utilice el dataset _sample_, provisto en la tarea de manera que $m$ sea menor o igual a la cantidad total de imágenes del dataset. \n"
   ]
  },
  {
   "cell_type": "code",
   "execution_count": 28,
   "metadata": {},
   "outputs": [
    {
     "name": "stdout",
     "output_type": "stream",
     "text": [
      "[[-9.72584654  2.91475783 -0.56005995  4.14860681 -0.60700666  7.41767904\n",
      "   4.87340738]\n",
      " [-9.87836311  4.49780965  2.75138509 -2.67172155  7.76712161 -1.13570346\n",
      "  -3.14541858]\n",
      " [-1.70015045 -4.52740415  1.12268154 -5.34585479 -3.27182974 -4.03033399\n",
      "   6.25541501]\n",
      " [-0.92998975 -2.2283703  -4.87536599 -5.45839098 -5.50364136  2.11270192\n",
      "  -2.62306956]\n",
      " [-1.25145356 -6.27414502 -8.24243933  0.34493306  4.89282629 -4.81750781\n",
      "   0.47148128]\n",
      " [ 5.34735883 -8.60845995  0.55857568  9.78410789  1.03836658  0.97971668\n",
      "  -0.93835823]\n",
      " [-1.85464725  1.18254579 11.74537608  2.66758953 -3.87009477 -4.67826918\n",
      "  -1.44044262]\n",
      " [ 0.87763373  9.77998653 -7.12364664  3.49397106 -4.79380281 -2.28887814\n",
      "  -3.06945208]\n",
      " [ 4.9031557  -5.20153157  3.42352856 -5.23664562  0.43547772  5.73997566\n",
      "  -3.8245792 ]\n",
      " [14.21230238  8.46481119  1.19996496 -1.7265954   3.91258314  0.70061929\n",
      "   3.4410166 ]]\n"
     ]
    },
    {
     "data": {
      "text/plain": [
       "\" \\n#use PCA with k components\\ndef pca_components(k,image):\\n    #defining k principal components\\n    pca = PCA(n_components=k)\\n    #projecting data into k components with dimensional reduction\\n    transformed_data = pca.fit_transform(data)\\n    \\n    #reconstructing data with k components\\n    inverse_transformed = pca.inverse_transform(transformed_data)\\n    \\n    #show images reconstructed\\n    ni = np.reshape(255*inverse_transformed[image,:]+mean[None,:],(112,92))\\n    plt.figure(figsize=(5,5))\\n    plt.imshow(ni,cmap='gray')\\n    plt.show()\\n\\ninteract(pca_components,k=IntSlider(min=1,max=40,step=1,value=5),image=IntSlider(min=0,max=9,step=1,value=8)) \""
      ]
     },
     "execution_count": 28,
     "metadata": {},
     "output_type": "execute_result"
    }
   ],
   "source": [
    "# reading images from training dataset\n",
    "image_list = list()\n",
    "for i in range(1,11):\n",
    "    img = Image.open(\"sample/\"+str(i)+\".pgm\")\n",
    "    \n",
    "    data = img.getdata()\n",
    "    data = np.asarray(data)\n",
    "    image_list.append(data)\n",
    "\n",
    "#convertir a array\n",
    "image_list = np.asarray(image_list)\n",
    "\n",
    "# image matrix\n",
    "mean = image_list.mean(axis=0)\n",
    "data = image_list-mean[None,:]\n",
    "data=data/255 \n",
    "\n",
    "def svd_pca_components(m, k):\n",
    "    #defining k principal components\n",
    "    pca = PCA(n_components=k)\n",
    "    #projecting data into k components with dimensional reduction\n",
    "    transformed_data = pca.fit_transform(data)\n",
    "    V = np.full((m,k),transformed_data)\n",
    "    return V\n",
    "print(svd_pca_components(10,7))\n",
    "\"\"\" \n",
    "#use PCA with k components\n",
    "def pca_components(k,image):\n",
    "    #defining k principal components\n",
    "    pca = PCA(n_components=k)\n",
    "    #projecting data into k components with dimensional reduction\n",
    "    transformed_data = pca.fit_transform(data)\n",
    "    \n",
    "    #reconstructing data with k components\n",
    "    inverse_transformed = pca.inverse_transform(transformed_data)\n",
    "    \n",
    "    #show images reconstructed\n",
    "    ni = np.reshape(255*inverse_transformed[image,:]+mean[None,:],(112,92))\n",
    "    plt.figure(figsize=(5,5))\n",
    "    plt.imshow(ni,cmap='gray')\n",
    "    plt.show()\n",
    "\n",
    "interact(pca_components,k=IntSlider(min=1,max=40,step=1,value=5),image=IntSlider(min=0,max=9,step=1,value=8)) \"\"\"\n"
   ]
  },
  {
   "cell_type": "code",
   "execution_count": 24,
   "metadata": {},
   "outputs": [
    {
     "name": "stdout",
     "output_type": "stream",
     "text": [
      "Las dimensiones son: \n",
      " Matriz u:  (10, 10) \n",
      " Matriz s:  (10,) \n",
      " Matriz vh:  (10304, 10304)\n"
     ]
    }
   ],
   "source": [
    "# Valor singular de descomposición\n",
    "u, s, vh = np.linalg.svd(data, full_matrices=True)\n",
    "#s -> vector con los valores singulares\n",
    "print (\"Las dimensiones son: \\n\", \"Matriz u: \", u.shape,\"\\n Matriz s: \", s.shape, \"\\n Matriz vh: \", vh.shape)\n",
    "\n"
   ]
  },
  {
   "cell_type": "code",
   "execution_count": null,
   "metadata": {},
   "outputs": [],
   "source": []
  },
  {
   "cell_type": "code",
   "execution_count": null,
   "metadata": {},
   "outputs": [],
   "source": []
  }
 ],
 "metadata": {
  "kernelspec": {
   "display_name": "Python 3",
   "language": "python",
   "name": "python3"
  },
  "language_info": {
   "codemirror_mode": {
    "name": "ipython",
    "version": 3
   },
   "file_extension": ".py",
   "mimetype": "text/x-python",
   "name": "python",
   "nbconvert_exporter": "python",
   "pygments_lexer": "ipython3",
   "version": "3.7.1"
  }
 },
 "nbformat": 4,
 "nbformat_minor": 2
}
